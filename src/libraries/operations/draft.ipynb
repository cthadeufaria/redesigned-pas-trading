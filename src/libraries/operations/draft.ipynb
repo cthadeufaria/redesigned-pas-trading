{
 "cells": [
  {
   "cell_type": "code",
   "execution_count": 2,
   "metadata": {},
   "outputs": [
    {
     "name": "stdout",
     "output_type": "stream",
     "text": [
      "\n",
      "   2 s + 5\n",
      "-------------\n",
      "s^2 + 2 s + 3\n",
      "\n"
     ]
    }
   ],
   "source": [
    "# begin - importing libraries\n",
    "import control as c\n",
    "import numpy as np\n",
    "import simple_pid as pid\n",
    "\n",
    "G = c.tf([2, 5], [1, 2, 3])\n",
    "\n",
    "print(G)"
   ]
  },
  {
   "cell_type": "code",
   "execution_count": null,
   "metadata": {},
   "outputs": [],
   "source": [
    "# defining main variables - hard coded for testing\n",
    "\n",
    "price = 24375.12340\n",
    "Mp = 1257\n",
    "r = 0.005\n",
    "Na = 1\n",
    "\n",
    "# control signal\n",
    "alfa = 1 # buy operation\n",
    "# alfa = -1 # sell operation\n",
    "# u = alfa * n"
   ]
  },
  {
   "cell_type": "code",
   "execution_count": 5,
   "metadata": {},
   "outputs": [
    {
     "name": "stdout",
     "output_type": "stream",
     "text": [
      "<LinearIOSystem>: sys[4]\n",
      "Inputs (1): ['u[0]']\n",
      "Outputs (1): ['y[0]']\n",
      "States (2): ['x[0]', 'x[1]']\n",
      "\n",
      "A = [[1. 0.]\n",
      "     [0. 1.]]\n",
      "\n",
      "B = [[-2.43751234e+04]\n",
      "     [ 1.00000000e+00]]\n",
      "\n",
      "C = [[1.00000000e+00 2.43751234e+04]]\n",
      "\n",
      "D = [[0.]]\n",
      "\n",
      "dt = 3600\n",
      "\n"
     ]
    }
   ],
   "source": [
    "# defining state space model\n",
    "\n",
    "A = np.identity(2)\n",
    "B = np.array([[-price], [1]], float)\n",
    "C = np.array([1, price], float)\n",
    "D = 0\n",
    "# g = r * price * u\n",
    "\n",
    "X = np.array([[Mp], [Na]])\n",
    "Y = C * X\n",
    "\n",
    "system = c.ss(A, B, C, D, 3600)\n",
    "\n",
    "print(system)"
   ]
  },
  {
   "cell_type": "code",
   "execution_count": 8,
   "metadata": {},
   "outputs": [
    {
     "data": {
      "text/plain": [
       "array([[-2.43751234e+04, -2.43751234e+04],\n",
       "       [ 1.00000000e+00,  1.00000000e+00]])"
      ]
     },
     "execution_count": 8,
     "metadata": {},
     "output_type": "execute_result"
    }
   ],
   "source": [
    "c.poles(system)\n",
    "c.ctrb(A, B)"
   ]
  },
  {
   "cell_type": "code",
   "execution_count": 4,
   "metadata": {},
   "outputs": [
    {
     "ename": "AttributeError",
     "evalue": "module 'control' has no attribute 'pid'",
     "output_type": "error",
     "traceback": [
      "\u001b[0;31m---------------------------------------------------------------------------\u001b[0m",
      "\u001b[0;31mAttributeError\u001b[0m                            Traceback (most recent call last)",
      "Cell \u001b[0;32mIn[4], line 3\u001b[0m\n\u001b[1;32m      1\u001b[0m kp \u001b[39m=\u001b[39m \u001b[39m5\u001b[39m\n\u001b[1;32m      2\u001b[0m ki \u001b[39m=\u001b[39m \u001b[39m10\u001b[39m\n\u001b[0;32m----> 3\u001b[0m Gc \u001b[39m=\u001b[39m c\u001b[39m.\u001b[39;49mpid(kp, ki)\n",
      "\u001b[0;31mAttributeError\u001b[0m: module 'control' has no attribute 'pid'"
     ]
    }
   ],
   "source": [
    "kp = 5\n",
    "ki = 10\n",
    "Gc = c.pid(kp, ki)"
   ]
  },
  {
   "attachments": {},
   "cell_type": "markdown",
   "metadata": {},
   "source": [
    "vpk1 = vpk + dpk*nak + dpk*uk - r*pk*nam"
   ]
  },
  {
   "cell_type": "code",
   "execution_count": null,
   "metadata": {},
   "outputs": [],
   "source": [
    "806.912045 + 3.983792347371491*0.03293922020570901 + 3.983792347371491*0.03293922020570901 - 0.005*14.52441680999982"
   ]
  }
 ],
 "metadata": {
  "kernelspec": {
   "display_name": ".venv",
   "language": "python",
   "name": "python3"
  },
  "language_info": {
   "codemirror_mode": {
    "name": "ipython",
    "version": 3
   },
   "file_extension": ".py",
   "mimetype": "text/x-python",
   "name": "python",
   "nbconvert_exporter": "python",
   "pygments_lexer": "ipython3",
   "version": "3.10.6"
  },
  "orig_nbformat": 4,
  "vscode": {
   "interpreter": {
    "hash": "996bfcf0974915eb54957059c4063ee8df9c39e8f16fac677bdaa9eeb1bdced5"
   }
  }
 },
 "nbformat": 4,
 "nbformat_minor": 2
}
